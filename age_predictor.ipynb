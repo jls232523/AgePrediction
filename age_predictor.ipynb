{
 "cells": [
  {
   "cell_type": "code",
   "execution_count": 17,
   "metadata": {},
   "outputs": [],
   "source": [
    "import keras\n",
    "from keras.models import load_model\n",
    "from keras.models import Sequential\n",
    "from keras.layers import Dense, Activation, Flatten, Dropout\n",
    "from keras.optimizers import Adam\n",
    "from keras.metrics import categorical_crossentropy\n",
    "from keras.preprocessing.image import ImageDataGenerator\n",
    "from keras.layers.normalization import BatchNormalization\n",
    "from keras.layers.convolutional import *\n",
    "from keras_vggface.vggface import VGGFace\n",
    "\n"
   ]
  },
  {
   "cell_type": "code",
   "execution_count": 18,
   "metadata": {},
   "outputs": [
    {
     "name": "stdout",
     "output_type": "stream",
     "text": [
      "Found 2030 images belonging to 5 classes.\n",
      "Found 625 images belonging to 5 classes.\n"
     ]
    }
   ],
   "source": [
    "#grab the training and validation images from directory\n",
    "train_batches = ImageDataGenerator().flow_from_directory(\"train_small/UTKFace_small/\", target_size=(200,200), batch_size=5)\n",
    "valid_batches = ImageDataGenerator().flow_from_directory(\"validate_small/UTKFace_valid_small\", target_size=(200,200), batch_size=5)"
   ]
  },
  {
   "cell_type": "code",
   "execution_count": 19,
   "metadata": {},
   "outputs": [],
   "source": [
    "#CNN model including batch normalization, maxpooling, and dropout\n",
    "model = Sequential()\n",
    "model.add(Conv2D(32, (3, 3), input_shape=(200, 200, 3)))\n",
    "model.add(Activation('relu'))\n",
    "model.add(BatchNormalization(axis=-1))\n",
    "model.add(MaxPooling2D(pool_size=(2, 2)))\n",
    "model.add(Dropout(0.2))\n",
    "\n",
    "model.add(Conv2D(32, (3, 3)))\n",
    "model.add(Activation('relu'))\n",
    "model.add(BatchNormalization(axis=-1))\n",
    "model.add(MaxPooling2D(pool_size=(2, 2)))\n",
    "model.add(Dropout(0.2))\n",
    "\n",
    "model.add(Conv2D(64, (3, 3)))\n",
    "model.add(Activation('relu'))\n",
    "model.add(BatchNormalization(axis=-1))\n",
    "model.add(MaxPooling2D(pool_size=(2, 2)))\n",
    "\n",
    "model.add(Flatten())\n",
    "model.add(Dense(64))\n",
    "model.add(Activation('relu'))\n",
    "model.add(Dropout(0.5))\n",
    "model.add(Dense(5))\n",
    "model.add(Activation('softmax'))\n",
    "\n",
    "\n",
    "\n"
   ]
  },
  {
   "cell_type": "code",
   "execution_count": 20,
   "metadata": {},
   "outputs": [],
   "source": [
    "#using adam optimizer with categorical crossentroph loss function\n",
    "model.compile(Adam(lr=.0001), loss='categorical_crossentropy', metrics=['accuracy'])"
   ]
  },
  {
   "cell_type": "code",
   "execution_count": 21,
   "metadata": {},
   "outputs": [
    {
     "name": "stdout",
     "output_type": "stream",
     "text": [
      "Epoch 1/30\n",
      "406/406 [==============================] - 185s 457ms/step - loss: 1.3203 - acc: 0.5369 - val_loss: 1.0666 - val_acc: 0.6480\n",
      "Epoch 2/30\n",
      "406/406 [==============================] - 179s 440ms/step - loss: 1.0255 - acc: 0.6039 - val_loss: 0.9975 - val_acc: 0.6928\n",
      "Epoch 3/30\n",
      "406/406 [==============================] - 180s 443ms/step - loss: 0.9584 - acc: 0.6222 - val_loss: 0.9284 - val_acc: 0.7152\n",
      "Epoch 4/30\n",
      "406/406 [==============================] - 178s 438ms/step - loss: 0.9204 - acc: 0.6468 - val_loss: 0.9411 - val_acc: 0.6560\n",
      "Epoch 5/30\n",
      "406/406 [==============================] - 179s 440ms/step - loss: 0.8205 - acc: 0.6581 - val_loss: 1.0261 - val_acc: 0.6896\n",
      "Epoch 6/30\n",
      "406/406 [==============================] - 179s 442ms/step - loss: 0.7970 - acc: 0.6773 - val_loss: 0.8754 - val_acc: 0.6928\n",
      "Epoch 7/30\n",
      "406/406 [==============================] - 181s 445ms/step - loss: 0.7802 - acc: 0.6847 - val_loss: 0.9097 - val_acc: 0.7312\n",
      "Epoch 8/30\n",
      "406/406 [==============================] - 181s 446ms/step - loss: 0.7576 - acc: 0.6877 - val_loss: 0.8984 - val_acc: 0.6784\n",
      "Epoch 9/30\n",
      "406/406 [==============================] - 185s 455ms/step - loss: 0.7084 - acc: 0.7172 - val_loss: 0.9845 - val_acc: 0.6992\n",
      "Epoch 10/30\n",
      "406/406 [==============================] - 182s 447ms/step - loss: 0.6772 - acc: 0.7108 - val_loss: 0.8634 - val_acc: 0.6272\n",
      "Epoch 11/30\n",
      "406/406 [==============================] - 180s 444ms/step - loss: 0.6756 - acc: 0.7296 - val_loss: 0.7510 - val_acc: 0.6976\n",
      "Epoch 12/30\n",
      "406/406 [==============================] - 175s 432ms/step - loss: 0.6358 - acc: 0.7305 - val_loss: 0.8820 - val_acc: 0.6688\n",
      "Epoch 13/30\n",
      "406/406 [==============================] - 175s 431ms/step - loss: 0.6283 - acc: 0.7365 - val_loss: 0.7515 - val_acc: 0.7072\n",
      "Epoch 14/30\n",
      "406/406 [==============================] - 175s 431ms/step - loss: 0.5983 - acc: 0.7571 - val_loss: 0.7424 - val_acc: 0.6832\n",
      "Epoch 15/30\n",
      "406/406 [==============================] - 175s 431ms/step - loss: 0.5440 - acc: 0.7734 - val_loss: 0.7711 - val_acc: 0.7152\n",
      "Epoch 16/30\n",
      "406/406 [==============================] - 176s 433ms/step - loss: 0.5321 - acc: 0.7813 - val_loss: 0.7816 - val_acc: 0.6928\n",
      "Epoch 17/30\n",
      "406/406 [==============================] - 171s 421ms/step - loss: 0.5270 - acc: 0.7837 - val_loss: 0.9458 - val_acc: 0.7200\n",
      "Epoch 18/30\n",
      "406/406 [==============================] - 171s 422ms/step - loss: 0.5256 - acc: 0.7798 - val_loss: 0.8457 - val_acc: 0.6784\n",
      "Epoch 19/30\n",
      "406/406 [==============================] - 172s 423ms/step - loss: 0.4711 - acc: 0.8054 - val_loss: 0.7078 - val_acc: 0.6992\n",
      "Epoch 20/30\n",
      "406/406 [==============================] - 172s 423ms/step - loss: 0.4629 - acc: 0.8039 - val_loss: 0.7692 - val_acc: 0.6912\n",
      "Epoch 21/30\n",
      "406/406 [==============================] - 172s 423ms/step - loss: 0.4381 - acc: 0.8103 - val_loss: 0.8123 - val_acc: 0.7040\n",
      "Epoch 22/30\n",
      "406/406 [==============================] - 172s 423ms/step - loss: 0.4547 - acc: 0.8049 - val_loss: 0.6974 - val_acc: 0.7408\n",
      "Epoch 23/30\n",
      "406/406 [==============================] - 173s 425ms/step - loss: 0.4217 - acc: 0.8276 - val_loss: 0.7195 - val_acc: 0.7200\n",
      "Epoch 24/30\n",
      "406/406 [==============================] - 173s 427ms/step - loss: 0.4490 - acc: 0.8167 - val_loss: 0.9177 - val_acc: 0.7040\n",
      "Epoch 25/30\n",
      "406/406 [==============================] - 173s 426ms/step - loss: 0.4273 - acc: 0.8167 - val_loss: 0.9199 - val_acc: 0.6512\n",
      "Epoch 26/30\n",
      "406/406 [==============================] - 173s 427ms/step - loss: 0.4030 - acc: 0.8330 - val_loss: 0.8723 - val_acc: 0.6608\n",
      "Epoch 27/30\n",
      "406/406 [==============================] - 174s 428ms/step - loss: 0.3871 - acc: 0.8389 - val_loss: 0.8190 - val_acc: 0.6960\n",
      "Epoch 28/30\n",
      "406/406 [==============================] - 174s 428ms/step - loss: 0.3595 - acc: 0.8443 - val_loss: 0.9616 - val_acc: 0.6800\n",
      "Epoch 29/30\n",
      "406/406 [==============================] - 175s 430ms/step - loss: 0.3539 - acc: 0.8527 - val_loss: 0.8672 - val_acc: 0.6768\n",
      "Epoch 30/30\n",
      "406/406 [==============================] - 175s 430ms/step - loss: 0.3544 - acc: 0.8498 - val_loss: 1.0526 - val_acc: 0.6240\n"
     ]
    },
    {
     "data": {
      "text/plain": [
       "<keras.callbacks.History at 0x12207ac18>"
      ]
     },
     "execution_count": 21,
     "metadata": {},
     "output_type": "execute_result"
    }
   ],
   "source": [
    "#train model over 30 epochs\n",
    "model.fit_generator(train_batches, steps_per_epoch=406, validation_data=valid_batches, validation_steps=125,epochs=30, verbose=1)"
   ]
  },
  {
   "cell_type": "code",
   "execution_count": 23,
   "metadata": {},
   "outputs": [],
   "source": [
    "#save the model \n",
    "model.save('model_1')"
   ]
  },
  {
   "cell_type": "code",
   "execution_count": null,
   "metadata": {},
   "outputs": [],
   "source": []
  }
 ],
 "metadata": {
  "kernelspec": {
   "display_name": "Python 3",
   "language": "python",
   "name": "python3"
  },
  "language_info": {
   "codemirror_mode": {
    "name": "ipython",
    "version": 3
   },
   "file_extension": ".py",
   "mimetype": "text/x-python",
   "name": "python",
   "nbconvert_exporter": "python",
   "pygments_lexer": "ipython3",
   "version": "3.6.5"
  }
 },
 "nbformat": 4,
 "nbformat_minor": 2
}
